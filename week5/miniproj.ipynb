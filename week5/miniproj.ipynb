{
  "nbformat": 4,
  "nbformat_minor": 0,
  "metadata": {
    "colab": {
      "provenance": []
    },
    "kernelspec": {
      "name": "python3",
      "display_name": "Python 3"
    },
    "language_info": {
      "name": "python"
    }
  },
  "cells": [
    {
      "cell_type": "markdown",
      "source": [
        "### Mid-Semester Review\n"
      ],
      "metadata": {
        "id": "N2GcYGQanEez"
      }
    },
    {
      "cell_type": "markdown",
      "source": [
        "Load in data"
      ],
      "metadata": {
        "id": "8-bGIVdanKVf"
      }
    },
    {
      "cell_type": "code",
      "source": [],
      "metadata": {
        "id": "uIjKr3jinKDd"
      },
      "execution_count": null,
      "outputs": []
    },
    {
      "cell_type": "markdown",
      "source": [
        "Filter the columns to only include ['age', 'c_charge_degree', 'race', 'score_text', 'sex', 'priors_count', 'days_b_screening_arrest', 'decile_score', 'is_recid', 'two_year_recid', 'c_jail_in', 'c_jail_out']"
      ],
      "metadata": {
        "id": "QMKmmbkVnLzJ"
      }
    },
    {
      "cell_type": "code",
      "source": [],
      "metadata": {
        "id": "SED9d-sjniUI"
      },
      "execution_count": null,
      "outputs": []
    },
    {
      "cell_type": "markdown",
      "source": [
        "There are a number of rows we can't use for analysis. Remove them\n",
        "\n",
        "If the charge or arrest date of a defendants Compas scored crime was not within 30 days from when the person was compas scored, we assume that because of data quality reasons, that we do not have the right offense. (If days_b_screening_arrest > 30 OR if days_b_screening_arrest < 30, remove these rows from the dataset).\n",
        "\n",
        "the recidivist flag -- is_recid -- is -1 if ProPublica could not find a compas case at all. Remove these rows.\n",
        "\n",
        "ordinary traffic offenses -- those with a c_charge_degree of 'O' -- that will not result in Jail time are to be removed (only two of them)."
      ],
      "metadata": {
        "id": "IF0UJuwVnkr7"
      }
    },
    {
      "cell_type": "code",
      "source": [],
      "metadata": {
        "id": "c7pDrg7gnKBN"
      },
      "execution_count": null,
      "outputs": []
    },
    {
      "cell_type": "markdown",
      "source": [
        "Create columns 'first' and 'last' of the defendants' first and last names."
      ],
      "metadata": {
        "id": "oDTv2zktnmTO"
      }
    },
    {
      "cell_type": "code",
      "source": [],
      "metadata": {
        "id": "TMGzhJwvnD5X"
      },
      "execution_count": null,
      "outputs": []
    },
    {
      "cell_type": "markdown",
      "source": [
        "Create a column 'age_cat', where age is separated into 3 categories: > 45, 25 <= age <= 45, and < 25."
      ],
      "metadata": {
        "id": "Gt4NL3SUnn4Z"
      }
    },
    {
      "cell_type": "code",
      "execution_count": null,
      "metadata": {
        "id": "OM8PojHBm96O"
      },
      "outputs": [],
      "source": []
    },
    {
      "cell_type": "markdown",
      "source": [
        "Create your own feature based on the data. List demographic statistics of race, gender, and your own choice, then graph them using your preferred graphing method."
      ],
      "metadata": {
        "id": "SNkPqGo2rQ12"
      }
    },
    {
      "cell_type": "code",
      "source": [],
      "metadata": {
        "id": "RTG3qmgXrTcT"
      },
      "execution_count": null,
      "outputs": []
    },
    {
      "cell_type": "markdown",
      "source": [
        "What is the percentage of people who have recidivated?"
      ],
      "metadata": {
        "id": "In9D28Z9nrhL"
      }
    },
    {
      "cell_type": "code",
      "source": [],
      "metadata": {
        "id": "8EuP-efOnrwS"
      },
      "execution_count": null,
      "outputs": []
    },
    {
      "cell_type": "markdown",
      "source": [
        "Using seaborn, plot charts of female defendants' COMPAS scores, then plot charts of male defendants' COMPAS scores. Is this evidence of bias?"
      ],
      "metadata": {
        "id": "IN-883rOnsh5"
      }
    },
    {
      "cell_type": "code",
      "source": [],
      "metadata": {
        "id": "GxIGy-e2nswR"
      },
      "execution_count": null,
      "outputs": []
    },
    {
      "cell_type": "markdown",
      "source": [
        "After performing EDA, explain three observations you have observed from the data."
      ],
      "metadata": {
        "id": "6V2zAtGArhqm"
      }
    },
    {
      "cell_type": "markdown",
      "source": [],
      "metadata": {
        "id": "eCdCz4cEskjT"
      }
    },
    {
      "cell_type": "markdown",
      "source": [
        "Create and plot confusion matrices for male and female defendants."
      ],
      "metadata": {
        "id": "j_hGDCYMoC8Y"
      }
    },
    {
      "cell_type": "code",
      "source": [],
      "metadata": {
        "id": "PLLthPlToAcA"
      },
      "execution_count": null,
      "outputs": []
    },
    {
      "cell_type": "markdown",
      "source": [
        "Calculate accuracy, precision, recall, specificity, and F1 score using the cm.ravel() function."
      ],
      "metadata": {
        "id": "en8oPuPQoPwd"
      }
    },
    {
      "cell_type": "code",
      "source": [],
      "metadata": {
        "id": "2KMm-wfDoPkE"
      },
      "execution_count": null,
      "outputs": []
    },
    {
      "cell_type": "markdown",
      "source": [
        "Calculate FPR, FNR for male and female defendants."
      ],
      "metadata": {
        "id": "SGCRKVV_oYIs"
      }
    },
    {
      "cell_type": "code",
      "source": [],
      "metadata": {
        "id": "YNcNjpoZodjK"
      },
      "execution_count": null,
      "outputs": []
    },
    {
      "cell_type": "markdown",
      "source": [
        "Based on these statistics, what conclusions do you have about COMPAS?"
      ],
      "metadata": {
        "id": "r2iBIEeIrpAK"
      }
    },
    {
      "cell_type": "code",
      "source": [],
      "metadata": {
        "id": "vA6CHhP6rwiT"
      },
      "execution_count": null,
      "outputs": []
    },
    {
      "cell_type": "markdown",
      "source": [
        "Create a confusion matrix of your custom feature you made earlier."
      ],
      "metadata": {
        "id": "PXV285s6rxBu"
      }
    },
    {
      "cell_type": "code",
      "source": [],
      "metadata": {
        "id": "isvAq5M7rw00"
      },
      "execution_count": null,
      "outputs": []
    },
    {
      "cell_type": "markdown",
      "source": [
        "Create new categorical columns based on 'c_charge_degree', 'race', 'age_cat', and 'gender'. Rename these columns"
      ],
      "metadata": {
        "id": "cPz26Ni9pUr3"
      }
    },
    {
      "cell_type": "code",
      "source": [],
      "metadata": {
        "id": "YVd2RVtFpWR3"
      },
      "execution_count": null,
      "outputs": []
    },
    {
      "cell_type": "markdown",
      "source": [
        "Relevel the new age, race, and gender columns to have '25-45', 'Caucasian', and 'Male' as base cases."
      ],
      "metadata": {
        "id": "PhiGzRuApduC"
      }
    },
    {
      "cell_type": "code",
      "source": [],
      "metadata": {
        "id": "Jo00luqGplY_"
      },
      "execution_count": null,
      "outputs": []
    },
    {
      "cell_type": "markdown",
      "source": [
        "Create a binary score category. 0 is 'Low', 1 is 'Medium' or 'High'."
      ],
      "metadata": {
        "id": "LAsMvHtppm79"
      }
    },
    {
      "cell_type": "code",
      "source": [],
      "metadata": {
        "id": "fBby5PwppnIt"
      },
      "execution_count": null,
      "outputs": []
    },
    {
      "cell_type": "markdown",
      "source": [
        "Fit your model to a binomial distribution like we did last week, predicting score factor based on gender, age, race, priors_count, crime, and two year recid"
      ],
      "metadata": {
        "id": "qbGq8gKVposJ"
      }
    },
    {
      "cell_type": "code",
      "source": [],
      "metadata": {
        "id": "z5qOSvHNppPw"
      },
      "execution_count": null,
      "outputs": []
    },
    {
      "cell_type": "markdown",
      "source": [
        "Adjusting for confounders, how much more likely are men to get a higher score than women?"
      ],
      "metadata": {
        "id": "3Tu61T6ipx8A"
      }
    },
    {
      "cell_type": "code",
      "source": [],
      "metadata": {
        "id": "TuuHkTK_pxvt"
      },
      "execution_count": null,
      "outputs": []
    }
  ]
}